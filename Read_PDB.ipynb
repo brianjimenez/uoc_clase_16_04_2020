{
 "cells": [
  {
   "cell_type": "code",
   "execution_count": 25,
   "metadata": {},
   "outputs": [
    {
     "name": "stdout",
     "output_type": "stream",
     "text": [
      "['A', 'B']\n",
      "{'ASN': 1, 'LEU': 2, 'TYR': 1, 'ILE': 1, 'GLN': 1, 'TRP': 1, 'LYS': 1, 'ASP': 1, 'GLY': 2, 'PRO': 2, 'SER': 2, 'ARG': 1, 'ALA': 1}\n"
     ]
    }
   ],
   "source": [
    "# -*- coding: utf-8 -*-\n",
    "\n",
    "import os\n",
    "\n",
    "# This is storing the chains found when parsing the file\n",
    "chains = []\n",
    "# Idem for residues\n",
    "residues = {}\n",
    "\n",
    "# Temporal variables for storing memory when iterating\n",
    "last_residue = ''\n",
    "\n",
    "last_residue_number = -9999999\n",
    "\n",
    "\n",
    "with open('1l2y.pdb') as input_handler:\n",
    "    # We're going to iterate line by line\n",
    "    for line in input_handler:\n",
    "        # We trim the final endline character\n",
    "        line = line.rstrip(os.linesep)\n",
    "        \n",
    "        # Get the different values for chain id, residue and residue number\n",
    "        residue = line[17:20]\n",
    "        chain_id = line[21]\n",
    "        residue_number = int(line[25])\n",
    "        \n",
    "        # We're counting the different residues found in this file. We're counting the \n",
    "        # different residues found in this file\n",
    "        # \n",
    "        if residue != last_residue and residue_number != last_residue_number:\n",
    "            # 1a opcion\n",
    "            try:\n",
    "                residues[residue] += 1\n",
    "            except KeyError:\n",
    "                residues[residue] = 1\n",
    "        \n",
    "        # We update the last values found\n",
    "        last_residue = residue\n",
    "        last_residue_number = residue_number\n",
    "        \n",
    "        # 2a opcion\n",
    "        #if residue in residues:\n",
    "        #    residues[residue] += 1\n",
    "        #else:\n",
    "        #    residues[residue] = 1\n",
    "        chains.append(chain_id)\n",
    "\n",
    "print(list(set(chains)))\n",
    "print(residues)\n",
    "\n"
   ]
  },
  {
   "cell_type": "markdown",
   "metadata": {},
   "source": [
    "Explicacion:"
   ]
  },
  {
   "cell_type": "markdown",
   "metadata": {},
   "source": [
    "Referencias"
   ]
  }
 ],
 "metadata": {
  "kernelspec": {
   "display_name": "Python 3",
   "language": "python",
   "name": "python3"
  },
  "language_info": {
   "codemirror_mode": {
    "name": "ipython",
    "version": 3
   },
   "file_extension": ".py",
   "mimetype": "text/x-python",
   "name": "python",
   "nbconvert_exporter": "python",
   "pygments_lexer": "ipython3",
   "version": "3.7.6"
  }
 },
 "nbformat": 4,
 "nbformat_minor": 2
}
